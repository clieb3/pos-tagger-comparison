{
 "cells": [
  {
   "cell_type": "code",
   "execution_count": 1,
   "metadata": {
    "collapsed": true
   },
   "outputs": [],
   "source": [
    "import nltk\n",
    "import random\n",
    "import time"
   ]
  },
  {
   "cell_type": "code",
   "execution_count": 2,
   "metadata": {
    "collapsed": true
   },
   "outputs": [],
   "source": [
    "g_t0 = time.time()"
   ]
  },
  {
   "cell_type": "code",
   "execution_count": 3,
   "metadata": {
    "collapsed": false
   },
   "outputs": [
    {
     "name": "stdout",
     "output_type": "stream",
     "text": [
      "3914\n"
     ]
    }
   ],
   "source": [
    "treebank_sents = list(nltk.corpus.treebank.tagged_sents())\n",
    "print (len(treebank_sents))\n",
    "\n",
    "random.shuffle(treebank_sents)\n",
    "\n",
    "test_train_split = 3200\n",
    "train_sents = treebank_sents[:test_train_split]\n",
    "test_sents = treebank_sents[test_train_split:]"
   ]
  },
  {
   "cell_type": "code",
   "execution_count": 4,
   "metadata": {
    "collapsed": true
   },
   "outputs": [],
   "source": [
    "def num_tokens(tagged_sents):\n",
    "    return sum([len(s) for s in tagged_sents])"
   ]
  },
  {
   "cell_type": "code",
   "execution_count": 5,
   "metadata": {
    "collapsed": true
   },
   "outputs": [],
   "source": [
    "class UnigramTagger(object):\n",
    "    def __init__(self, train_size):\n",
    "        self.train_size = train_size\n",
    "    \n",
    "    def train(self, train_sents):\n",
    "        train_sents = train_sents[:self.train_size]\n",
    "        self.tokens_size = num_tokens(train_sents)\n",
    "        \n",
    "        self._tagger = nltk.tag.UnigramTagger(train_sents)\n",
    "        \n",
    "    def test(self, test_sents):\n",
    "        return self._tagger.evaluate(test_sents)"
   ]
  },
  {
   "cell_type": "code",
   "execution_count": 6,
   "metadata": {
    "collapsed": true
   },
   "outputs": [],
   "source": [
    "class BigramTagger(object): \n",
    "    def __init__(self, train_size):\n",
    "        self.train_size = train_size\n",
    "\n",
    "    def train(self, train_sents):\n",
    "        train_sents = train_sents[:self.train_size]\n",
    "        self.tokens_size = num_tokens(train_sents)\n",
    "        \n",
    "        self._tagger = nltk.tag.BigramTagger(train_sents)\n",
    "        \n",
    "    def test(self, test_sents):\n",
    "        return self._tagger.evaluate(test_sents)"
   ]
  },
  {
   "cell_type": "code",
   "execution_count": 7,
   "metadata": {
    "collapsed": true
   },
   "outputs": [],
   "source": [
    "class BrillTagger(object):\n",
    "    def __init__(self, train_size):\n",
    "        self.train_size = train_size\n",
    "\n",
    "    def train(self, train_sents):\n",
    "        train_sents = train_sents[:self.train_size]\n",
    "        self.tokens_size = num_tokens(train_sents)\n",
    "        \n",
    "        unigram_tagger = nltk.tag.UnigramTagger(train_sents)\n",
    "        brill_trainer = nltk.tag.brill_trainer.BrillTaggerTrainer(unigram_tagger, nltk.tag.brill.brill24())\n",
    "        self._tagger = brill_trainer.train(train_sents)\n",
    "        \n",
    "    def test(self, test_sents):\n",
    "        return self._tagger.evaluate(test_sents)"
   ]
  },
  {
   "cell_type": "code",
   "execution_count": 8,
   "metadata": {
    "collapsed": true
   },
   "outputs": [],
   "source": [
    "class PerceptronTagger(object):  \n",
    "    def __init__(self, train_size):\n",
    "        self.train_size = train_size\n",
    "\n",
    "    def train(self, train_sents):\n",
    "        train_sents = train_sents[:self.train_size]\n",
    "        self.tokens_size = num_tokens(train_sents)\n",
    "        \n",
    "        self._tagger = nltk.tag.perceptron.PerceptronTagger(load=False)\n",
    "        self._tagger.train(train_sents)\n",
    "        \n",
    "    def test(self, test_sents):\n",
    "        return self._tagger.evaluate(test_sents)"
   ]
  },
  {
   "cell_type": "code",
   "execution_count": 9,
   "metadata": {
    "collapsed": true
   },
   "outputs": [],
   "source": [
    "class TnTTagger(object):   \n",
    "    def __init__(self, train_size):\n",
    "        self.train_size = train_size\n",
    "    \n",
    "    def train(self, train_sents):\n",
    "        train_sents = train_sents[:self.train_size]\n",
    "        self.tokens_size = num_tokens(train_sents)\n",
    "        \n",
    "        self._tagger = nltk.tag.tnt.TnT()\n",
    "        self._tagger.train(train_sents)\n",
    "        \n",
    "    def test(self, test_sents):\n",
    "        return self._tagger.evaluate(test_sents)"
   ]
  },
  {
   "cell_type": "code",
   "execution_count": 10,
   "metadata": {
    "collapsed": false
   },
   "outputs": [],
   "source": [
    "taggers = []\n",
    "for i in range(1, 6):\n",
    "    train_size = i * 200\n",
    "    taggers.append(UnigramTagger(train_size))\n",
    "    taggers.append(BigramTagger(train_size))\n",
    "    taggers.append(BrillTagger(train_size))\n",
    "    taggers.append(PerceptronTagger(train_size))\n",
    "    taggers.append(TnTTagger(train_size))"
   ]
  },
  {
   "cell_type": "code",
   "execution_count": 11,
   "metadata": {
    "collapsed": false
   },
   "outputs": [],
   "source": [
    "train_times = []\n",
    "for t in taggers:\n",
    "#     print (type(t).__name__)\n",
    "    t0 = time.time()\n",
    "    t.train(train_sents)\n",
    "    t1 = time.time()\n",
    "    train_times.append(t1 - t0)"
   ]
  },
  {
   "cell_type": "code",
   "execution_count": 12,
   "metadata": {
    "collapsed": false
   },
   "outputs": [],
   "source": [
    "accuracies = []\n",
    "test_times = []\n",
    "for t in taggers:\n",
    "#     print (type(t).__name__)\n",
    "    t0 = time.time()\n",
    "    accuracy = t.test(test_sents[:500])\n",
    "    t1 = time.time()\n",
    "    accuracies.append(accuracy)\n",
    "    test_times.append(t1 - t0)"
   ]
  },
  {
   "cell_type": "code",
   "execution_count": 13,
   "metadata": {
    "collapsed": false
   },
   "outputs": [
    {
     "name": "stdout",
     "output_type": "stream",
     "text": [
      "376.9243128299713\n"
     ]
    }
   ],
   "source": [
    "g_t1 = time.time()\n",
    "print (g_t1 - g_t0)"
   ]
  },
  {
   "cell_type": "code",
   "execution_count": 14,
   "metadata": {
    "collapsed": true
   },
   "outputs": [],
   "source": [
    "%matplotlib inline\n",
    "\n",
    "import pandas as pd\n",
    "import matplotlib.pyplot as plt\n",
    "\n",
    "import seaborn as sns\n",
    "sns.set_style(\"darkgrid\")"
   ]
  },
  {
   "cell_type": "code",
   "execution_count": 15,
   "metadata": {
    "collapsed": true
   },
   "outputs": [],
   "source": [
    "tagger_types = [type(t).__name__ for t in taggers]\n",
    "tokens_sizes = [t.tokens_size for t in taggers]\n",
    "\n",
    "test_runs = [('tagger_type', tagger_types),\n",
    "             ('tokens_size', tokens_sizes),\n",
    "             ('accuracy', accuracies),\n",
    "             ('train_time', train_times),\n",
    "             ('test_time', test_times)]\n",
    "\n",
    "df = pd.DataFrame.from_items(test_runs)\n",
    "grouped = df.groupby(['tagger_type'])"
   ]
  },
  {
   "cell_type": "code",
   "execution_count": 16,
   "metadata": {
    "collapsed": false
   },
   "outputs": [],
   "source": [
    "def my_plot(grouped, field):\n",
    "    fig, ax = plt.subplots(figsize=(8,6))\n",
    "    for key, grp in grouped:\n",
    "        grp.plot(x='tokens_size', y=field, ax=ax, label=key)\n",
    "    plt.legend(loc='best')    \n",
    "    plt.show()"
   ]
  },
  {
   "cell_type": "code",
   "execution_count": 17,
   "metadata": {
    "collapsed": false
   },
   "outputs": [
    {
     "data": {
      "image/png": "[encoded data removed]",
      "text/plain": [
       "<matplotlib.figure.Figure at 0x11a917710>"
      ]
     },
     "metadata": {},
     "output_type": "display_data"
    }
   ],
   "source": [
    "my_plot(grouped, 'accuracy')"
   ]
  },
  {
   "cell_type": "code",
   "execution_count": 18,
   "metadata": {
    "collapsed": false
   },
   "outputs": [
    {
     "data": {
      "image/png": "[encoded data removed]",
      "text/plain": [
       "<matplotlib.figure.Figure at 0x11a9593d0>"
      ]
     },
     "metadata": {},
     "output_type": "display_data"
    }
   ],
   "source": [
    "my_plot(grouped, 'train_time')"
   ]
  },
  {
   "cell_type": "code",
   "execution_count": 19,
   "metadata": {
    "collapsed": false
   },
   "outputs": [
    {
     "data": {
      "image/png": "[encoded data removed]",
      "text/plain": [
       "<matplotlib.figure.Figure at 0x11a97c5d0>"
      ]
     },
     "metadata": {},
     "output_type": "display_data"
    }
   ],
   "source": [
    "my_plot(grouped, 'test_time')"
   ]
  },
  {
   "cell_type": "code",
   "execution_count": 20,
   "metadata": {
    "collapsed": false
   },
   "outputs": [
    {
     "data": {
      "text/html": [
       "<div>\n",
       "<table border=\"1\" class=\"dataframe\">\n",
       "  <thead>\n",
       "    <tr style=\"text-align: right;\">\n",
       "      <th></th>\n",
       "      <th></th>\n",
       "      <th>accuracy</th>\n",
       "      <th>test_time</th>\n",
       "      <th>tokens_size</th>\n",
       "      <th>train_time</th>\n",
       "    </tr>\n",
       "    <tr>\n",
       "      <th>tagger_type</th>\n",
       "      <th></th>\n",
       "      <th></th>\n",
       "      <th></th>\n",
       "      <th></th>\n",
       "      <th></th>\n",
       "    </tr>\n",
       "  </thead>\n",
       "  <tbody>\n",
       "    <tr>\n",
       "      <th rowspan=\"8\" valign=\"top\">BigramTagger</th>\n",
       "      <th>count</th>\n",
       "      <td>5.000000</td>\n",
       "      <td>5.000000</td>\n",
       "      <td>5.000000</td>\n",
       "      <td>5.000000</td>\n",
       "    </tr>\n",
       "    <tr>\n",
       "      <th>mean</th>\n",
       "      <td>0.077006</td>\n",
       "      <td>0.184550</td>\n",
       "      <td>15625.600000</td>\n",
       "      <td>0.297645</td>\n",
       "    </tr>\n",
       "    <tr>\n",
       "      <th>std</th>\n",
       "      <td>0.020699</td>\n",
       "      <td>0.085538</td>\n",
       "      <td>8237.965119</td>\n",
       "      <td>0.139372</td>\n",
       "    </tr>\n",
       "    <tr>\n",
       "      <th>min</th>\n",
       "      <td>0.047933</td>\n",
       "      <td>0.143244</td>\n",
       "      <td>5088.000000</td>\n",
       "      <td>0.109523</td>\n",
       "    </tr>\n",
       "    <tr>\n",
       "      <th>25%</th>\n",
       "      <td>0.066212</td>\n",
       "      <td>0.146717</td>\n",
       "      <td>10592.000000</td>\n",
       "      <td>0.221506</td>\n",
       "    </tr>\n",
       "    <tr>\n",
       "      <th>50%</th>\n",
       "      <td>0.078999</td>\n",
       "      <td>0.147383</td>\n",
       "      <td>15599.000000</td>\n",
       "      <td>0.303391</td>\n",
       "    </tr>\n",
       "    <tr>\n",
       "      <th>75%</th>\n",
       "      <td>0.092022</td>\n",
       "      <td>0.147876</td>\n",
       "      <td>20833.000000</td>\n",
       "      <td>0.387772</td>\n",
       "    </tr>\n",
       "    <tr>\n",
       "      <th>max</th>\n",
       "      <td>0.099867</td>\n",
       "      <td>0.337530</td>\n",
       "      <td>26016.000000</td>\n",
       "      <td>0.466035</td>\n",
       "    </tr>\n",
       "    <tr>\n",
       "      <th rowspan=\"8\" valign=\"top\">BrillTagger</th>\n",
       "      <th>count</th>\n",
       "      <td>5.000000</td>\n",
       "      <td>5.000000</td>\n",
       "      <td>5.000000</td>\n",
       "      <td>5.000000</td>\n",
       "    </tr>\n",
       "    <tr>\n",
       "      <th>mean</th>\n",
       "      <td>0.782772</td>\n",
       "      <td>0.259692</td>\n",
       "      <td>15625.600000</td>\n",
       "      <td>3.239628</td>\n",
       "    </tr>\n",
       "    <tr>\n",
       "      <th>std</th>\n",
       "      <td>0.052225</td>\n",
       "      <td>0.077216</td>\n",
       "      <td>8237.965119</td>\n",
       "      <td>2.441845</td>\n",
       "    </tr>\n",
       "    <tr>\n",
       "      <th>min</th>\n",
       "      <td>0.700792</td>\n",
       "      <td>0.170669</td>\n",
       "      <td>5088.000000</td>\n",
       "      <td>0.579030</td>\n",
       "    </tr>\n",
       "    <tr>\n",
       "      <th>25%</th>\n",
       "      <td>0.766220</td>\n",
       "      <td>0.202117</td>\n",
       "      <td>10592.000000</td>\n",
       "      <td>1.505191</td>\n",
       "    </tr>\n",
       "    <tr>\n",
       "      <th>50%</th>\n",
       "      <td>0.796344</td>\n",
       "      <td>0.254694</td>\n",
       "      <td>15599.000000</td>\n",
       "      <td>2.880509</td>\n",
       "    </tr>\n",
       "    <tr>\n",
       "      <th>75%</th>\n",
       "      <td>0.817447</td>\n",
       "      <td>0.312106</td>\n",
       "      <td>20833.000000</td>\n",
       "      <td>4.536564</td>\n",
       "    </tr>\n",
       "    <tr>\n",
       "      <th>max</th>\n",
       "      <td>0.833059</td>\n",
       "      <td>0.358873</td>\n",
       "      <td>26016.000000</td>\n",
       "      <td>6.696848</td>\n",
       "    </tr>\n",
       "    <tr>\n",
       "      <th rowspan=\"8\" valign=\"top\">PerceptronTagger</th>\n",
       "      <th>count</th>\n",
       "      <td>5.000000</td>\n",
       "      <td>5.000000</td>\n",
       "      <td>5.000000</td>\n",
       "      <td>5.000000</td>\n",
       "    </tr>\n",
       "    <tr>\n",
       "      <th>mean</th>\n",
       "      <td>0.914348</td>\n",
       "      <td>1.841538</td>\n",
       "      <td>15625.600000</td>\n",
       "      <td>11.537053</td>\n",
       "    </tr>\n",
       "    <tr>\n",
       "      <th>std</th>\n",
       "      <td>0.028101</td>\n",
       "      <td>0.064869</td>\n",
       "      <td>8237.965119</td>\n",
       "      <td>5.672566</td>\n",
       "    </tr>\n",
       "    <tr>\n",
       "      <th>min</th>\n",
       "      <td>0.869146</td>\n",
       "      <td>1.754424</td>\n",
       "      <td>5088.000000</td>\n",
       "      <td>4.087902</td>\n",
       "    </tr>\n",
       "    <tr>\n",
       "      <th>25%</th>\n",
       "      <td>0.906488</td>\n",
       "      <td>1.807221</td>\n",
       "      <td>10592.000000</td>\n",
       "      <td>8.189742</td>\n",
       "    </tr>\n",
       "    <tr>\n",
       "      <th>50%</th>\n",
       "      <td>0.923511</td>\n",
       "      <td>1.850025</td>\n",
       "      <td>15599.000000</td>\n",
       "      <td>11.780832</td>\n",
       "    </tr>\n",
       "    <tr>\n",
       "      <th>75%</th>\n",
       "      <td>0.934573</td>\n",
       "      <td>1.869594</td>\n",
       "      <td>20833.000000</td>\n",
       "      <td>15.041577</td>\n",
       "    </tr>\n",
       "    <tr>\n",
       "      <th>max</th>\n",
       "      <td>0.938025</td>\n",
       "      <td>1.926428</td>\n",
       "      <td>26016.000000</td>\n",
       "      <td>18.585214</td>\n",
       "    </tr>\n",
       "    <tr>\n",
       "      <th rowspan=\"8\" valign=\"top\">TnTTagger</th>\n",
       "      <th>count</th>\n",
       "      <td>5.000000</td>\n",
       "      <td>5.000000</td>\n",
       "      <td>5.000000</td>\n",
       "      <td>5.000000</td>\n",
       "    </tr>\n",
       "    <tr>\n",
       "      <th>mean</th>\n",
       "      <td>0.782929</td>\n",
       "      <td>55.243793</td>\n",
       "      <td>15625.600000</td>\n",
       "      <td>0.240740</td>\n",
       "    </tr>\n",
       "    <tr>\n",
       "      <th>std</th>\n",
       "      <td>0.052543</td>\n",
       "      <td>43.952588</td>\n",
       "      <td>8237.965119</td>\n",
       "      <td>0.108199</td>\n",
       "    </tr>\n",
       "    <tr>\n",
       "      <th>min</th>\n",
       "      <td>0.700792</td>\n",
       "      <td>4.023247</td>\n",
       "      <td>5088.000000</td>\n",
       "      <td>0.094026</td>\n",
       "    </tr>\n",
       "    <tr>\n",
       "      <th>25%</th>\n",
       "      <td>0.765043</td>\n",
       "      <td>16.381157</td>\n",
       "      <td>10592.000000</td>\n",
       "      <td>0.183642</td>\n",
       "    </tr>\n",
       "    <tr>\n",
       "      <th>50%</th>\n",
       "      <td>0.797521</td>\n",
       "      <td>66.429195</td>\n",
       "      <td>15599.000000</td>\n",
       "      <td>0.246815</td>\n",
       "    </tr>\n",
       "    <tr>\n",
       "      <th>75%</th>\n",
       "      <td>0.818075</td>\n",
       "      <td>81.352361</td>\n",
       "      <td>20833.000000</td>\n",
       "      <td>0.304566</td>\n",
       "    </tr>\n",
       "    <tr>\n",
       "      <th>max</th>\n",
       "      <td>0.833216</td>\n",
       "      <td>108.033004</td>\n",
       "      <td>26016.000000</td>\n",
       "      <td>0.374652</td>\n",
       "    </tr>\n",
       "    <tr>\n",
       "      <th rowspan=\"8\" valign=\"top\">UnigramTagger</th>\n",
       "      <th>count</th>\n",
       "      <td>5.000000</td>\n",
       "      <td>5.000000</td>\n",
       "      <td>5.000000</td>\n",
       "      <td>5.000000</td>\n",
       "    </tr>\n",
       "    <tr>\n",
       "      <th>mean</th>\n",
       "      <td>0.773829</td>\n",
       "      <td>0.162603</td>\n",
       "      <td>15625.600000</td>\n",
       "      <td>0.160389</td>\n",
       "    </tr>\n",
       "    <tr>\n",
       "      <th>std</th>\n",
       "      <td>0.049075</td>\n",
       "      <td>0.082792</td>\n",
       "      <td>8237.965119</td>\n",
       "      <td>0.063087</td>\n",
       "    </tr>\n",
       "    <tr>\n",
       "      <th>min</th>\n",
       "      <td>0.696321</td>\n",
       "      <td>0.111742</td>\n",
       "      <td>5088.000000</td>\n",
       "      <td>0.084736</td>\n",
       "    </tr>\n",
       "    <tr>\n",
       "      <th>25%</th>\n",
       "      <td>0.759316</td>\n",
       "      <td>0.119225</td>\n",
       "      <td>10592.000000</td>\n",
       "      <td>0.115766</td>\n",
       "    </tr>\n",
       "    <tr>\n",
       "      <th>50%</th>\n",
       "      <td>0.786460</td>\n",
       "      <td>0.119491</td>\n",
       "      <td>15599.000000</td>\n",
       "      <td>0.158981</td>\n",
       "    </tr>\n",
       "    <tr>\n",
       "      <th>75%</th>\n",
       "      <td>0.806307</td>\n",
       "      <td>0.154929</td>\n",
       "      <td>20833.000000</td>\n",
       "      <td>0.201231</td>\n",
       "    </tr>\n",
       "    <tr>\n",
       "      <th>max</th>\n",
       "      <td>0.820742</td>\n",
       "      <td>0.307628</td>\n",
       "      <td>26016.000000</td>\n",
       "      <td>0.241229</td>\n",
       "    </tr>\n",
       "  </tbody>\n",
       "</table>\n",
       "</div>"
      ],
      "text/plain": [
       "                        accuracy   test_time   tokens_size  train_time\n",
       "tagger_type                                                           \n",
       "BigramTagger     count  5.000000    5.000000      5.000000    5.000000\n",
       "                 mean   0.077006    0.184550  15625.600000    0.297645\n",
       "                 std    0.020699    0.085538   8237.965119    0.139372\n",
       "                 min    0.047933    0.143244   5088.000000    0.109523\n",
       "                 25%    0.066212    0.146717  10592.000000    0.221506\n",
       "                 50%    0.078999    0.147383  15599.000000    0.303391\n",
       "                 75%    0.092022    0.147876  20833.000000    0.387772\n",
       "                 max    0.099867    0.337530  26016.000000    0.466035\n",
       "BrillTagger      count  5.000000    5.000000      5.000000    5.000000\n",
       "                 mean   0.782772    0.259692  15625.600000    3.239628\n",
       "                 std    0.052225    0.077216   8237.965119    2.441845\n",
       "                 min    0.700792    0.170669   5088.000000    0.579030\n",
       "                 25%    0.766220    0.202117  10592.000000    1.505191\n",
       "                 50%    0.796344    0.254694  15599.000000    2.880509\n",
       "                 75%    0.817447    0.312106  20833.000000    4.536564\n",
       "                 max    0.833059    0.358873  26016.000000    6.696848\n",
       "PerceptronTagger count  5.000000    5.000000      5.000000    5.000000\n",
       "                 mean   0.914348    1.841538  15625.600000   11.537053\n",
       "                 std    0.028101    0.064869   8237.965119    5.672566\n",
       "                 min    0.869146    1.754424   5088.000000    4.087902\n",
       "                 25%    0.906488    1.807221  10592.000000    8.189742\n",
       "                 50%    0.923511    1.850025  15599.000000   11.780832\n",
       "                 75%    0.934573    1.869594  20833.000000   15.041577\n",
       "                 max    0.938025    1.926428  26016.000000   18.585214\n",
       "TnTTagger        count  5.000000    5.000000      5.000000    5.000000\n",
       "                 mean   0.782929   55.243793  15625.600000    0.240740\n",
       "                 std    0.052543   43.952588   8237.965119    0.108199\n",
       "                 min    0.700792    4.023247   5088.000000    0.094026\n",
       "                 25%    0.765043   16.381157  10592.000000    0.183642\n",
       "                 50%    0.797521   66.429195  15599.000000    0.246815\n",
       "                 75%    0.818075   81.352361  20833.000000    0.304566\n",
       "                 max    0.833216  108.033004  26016.000000    0.374652\n",
       "UnigramTagger    count  5.000000    5.000000      5.000000    5.000000\n",
       "                 mean   0.773829    0.162603  15625.600000    0.160389\n",
       "                 std    0.049075    0.082792   8237.965119    0.063087\n",
       "                 min    0.696321    0.111742   5088.000000    0.084736\n",
       "                 25%    0.759316    0.119225  10592.000000    0.115766\n",
       "                 50%    0.786460    0.119491  15599.000000    0.158981\n",
       "                 75%    0.806307    0.154929  20833.000000    0.201231\n",
       "                 max    0.820742    0.307628  26016.000000    0.241229"
      ]
     },
     "execution_count": 20,
     "metadata": {},
     "output_type": "execute_result"
    }
   ],
   "source": [
    "grouped.describe()"
   ]
  },
  {
   "cell_type": "code",
   "execution_count": null,
   "metadata": {
    "collapsed": true
   },
   "outputs": [],
   "source": []
  }
 ],
 "metadata": {
  "kernelspec": {
   "display_name": "Python 3",
   "language": "python",
   "name": "python3"
  },
  "language_info": {
   "codemirror_mode": {
    "name": "ipython",
    "version": 3
   },
   "file_extension": ".py",
   "mimetype": "text/x-python",
   "name": "python",
   "nbconvert_exporter": "python",
   "pygments_lexer": "ipython3",
   "version": "3.3.4"
  }
 },
 "nbformat": 4,
 "nbformat_minor": 0
}
