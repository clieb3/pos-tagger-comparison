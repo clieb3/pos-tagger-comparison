{
 "cells": [
  {
   "cell_type": "code",
   "execution_count": 1,
   "metadata": {
    "collapsed": true
   },
   "outputs": [],
   "source": [
    "import nltk\n",
    "import random\n",
    "import time"
   ]
  },
  {
   "cell_type": "code",
   "execution_count": 2,
   "metadata": {
    "collapsed": true
   },
   "outputs": [],
   "source": [
    "import pandas as pd\n",
    "import matplotlib.pyplot as plt\n",
    "\n",
    "import seaborn as sns\n",
    "sns.set_style(\"darkgrid\")"
   ]
  },
  {
   "cell_type": "code",
   "execution_count": 3,
   "metadata": {
    "collapsed": true
   },
   "outputs": [],
   "source": [
    "%matplotlib inline"
   ]
  },
  {
   "cell_type": "code",
   "execution_count": 4,
   "metadata": {
    "collapsed": true
   },
   "outputs": [],
   "source": [
    "g_times = list()\n",
    "g_times.append(time.time())"
   ]
  },
  {
   "cell_type": "code",
   "execution_count": 5,
   "metadata": {
    "collapsed": false
   },
   "outputs": [
    {
     "name": "stdout",
     "output_type": "stream",
     "text": [
      "3914\n"
     ]
    }
   ],
   "source": [
    "treebank_sents = list(nltk.corpus.treebank.tagged_sents())\n",
    "print (len(treebank_sents))\n",
    "\n",
    "random.shuffle(treebank_sents)\n",
    "\n",
    "test_train_split = 3200\n",
    "train_sents = treebank_sents[:test_train_split]\n",
    "test_sents = treebank_sents[test_train_split:]"
   ]
  },
  {
   "cell_type": "code",
   "execution_count": 6,
   "metadata": {
    "collapsed": true
   },
   "outputs": [],
   "source": [
    "def num_tokens(tagged_sents):\n",
    "    return sum([len(s) for s in tagged_sents])"
   ]
  },
  {
   "cell_type": "code",
   "execution_count": 7,
   "metadata": {
    "collapsed": true
   },
   "outputs": [],
   "source": [
    "def default_backoff_tagger(train_sents):\n",
    "    tags = [tag for sent in treebank_sents for (word, tag) in sent]\n",
    "    nltk.DefaultTagger(nltk.FreqDist(tags).max())"
   ]
  },
  {
   "cell_type": "code",
   "execution_count": 8,
   "metadata": {
    "collapsed": false
   },
   "outputs": [
    {
     "data": {
      "image/png": "[encoded data removed]",
      "text/plain": [
       "<matplotlib.figure.Figure at 0x1151cc590>"
      ]
     },
     "metadata": {},
     "output_type": "display_data"
    }
   ],
   "source": [
    "tags = [tag for sent in treebank_sents for (word, tag) in sent]\n",
    "fd = nltk.FreqDist(tags)\n",
    "fd.plot()"
   ]
  },
  {
   "cell_type": "code",
   "execution_count": 9,
   "metadata": {
    "collapsed": true
   },
   "outputs": [],
   "source": [
    "class TnTTagger(object):   \n",
    "    def __init__(self, train_size):\n",
    "        self.train_size = train_size\n",
    "    \n",
    "    def train(self, train_sents):\n",
    "        train_sents = train_sents[:self.train_size]\n",
    "        self.tokens_size = num_tokens(train_sents)\n",
    "        \n",
    "        t0 = default_backoff_tagger(train_sents)\n",
    "        \n",
    "        self._tagger = nltk.tag.tnt.TnT(unk=t0)\n",
    "        self._tagger.train(train_sents)\n",
    "        \n",
    "    def test(self, test_sents):\n",
    "        return self._tagger.evaluate(test_sents)"
   ]
  },
  {
   "cell_type": "code",
   "execution_count": 10,
   "metadata": {
    "collapsed": true
   },
   "outputs": [],
   "source": [
    "class TrigramTagger(object): \n",
    "    def __init__(self, train_size):\n",
    "        self.train_size = train_size\n",
    "\n",
    "    def train(self, train_sents):\n",
    "        train_sents = train_sents[:self.train_size]\n",
    "        self.tokens_size = num_tokens(train_sents)\n",
    "        \n",
    "        t0 = default_backoff_tagger(train_sents)\n",
    "        t1 = nltk.tag.UnigramTagger(train_sents, backoff=t0)\n",
    "        t2 = nltk.tag.BigramTagger(train_sents, backoff=t1)\n",
    "        \n",
    "        self._tagger = nltk.tag.TrigramTagger(train_sents, backoff=t2)\n",
    "        \n",
    "    def test(self, test_sents):\n",
    "        return self._tagger.evaluate(test_sents)"
   ]
  },
  {
   "cell_type": "code",
   "execution_count": 11,
   "metadata": {
    "collapsed": true
   },
   "outputs": [],
   "source": [
    "class BigramTagger(object): \n",
    "    def __init__(self, train_size):\n",
    "        self.train_size = train_size\n",
    "\n",
    "    def train(self, train_sents):\n",
    "        train_sents = train_sents[:self.train_size]\n",
    "        self.tokens_size = num_tokens(train_sents)\n",
    "        \n",
    "        t0 = default_backoff_tagger(train_sents)\n",
    "        t1 = nltk.tag.UnigramTagger(train_sents, backoff=t0)\n",
    "        \n",
    "        self._tagger = nltk.tag.BigramTagger(train_sents, backoff=t1)\n",
    "        \n",
    "    def test(self, test_sents):\n",
    "        return self._tagger.evaluate(test_sents)"
   ]
  },
  {
   "cell_type": "code",
   "execution_count": 12,
   "metadata": {
    "collapsed": true
   },
   "outputs": [],
   "source": [
    "class UnigramTagger(object):\n",
    "    def __init__(self, train_size):\n",
    "        self.train_size = train_size\n",
    "    \n",
    "    def train(self, train_sents):\n",
    "        train_sents = train_sents[:self.train_size]\n",
    "        self.tokens_size = num_tokens(train_sents)\n",
    "        \n",
    "        t0 = default_backoff_tagger(train_sents)\n",
    "        \n",
    "        self._tagger = nltk.tag.UnigramTagger(train_sents, backoff=t0)\n",
    "        \n",
    "    def test(self, test_sents):\n",
    "        return self._tagger.evaluate(test_sents)"
   ]
  },
  {
   "cell_type": "code",
   "execution_count": 13,
   "metadata": {
    "collapsed": false
   },
   "outputs": [],
   "source": [
    "taggers = []\n",
    "for i in range(1, 6):\n",
    "    train_size = i * 200\n",
    "    taggers.append(TnTTagger(train_size))\n",
    "    taggers.append(TrigramTagger(train_size))\n",
    "    taggers.append(BigramTagger(train_size))\n",
    "    taggers.append(UnigramTagger(train_size))"
   ]
  },
  {
   "cell_type": "code",
   "execution_count": 14,
   "metadata": {
    "collapsed": false
   },
   "outputs": [
    {
     "name": "stdout",
     "output_type": "stream",
     "text": [
      "TnTTagger           0.15\n",
      "TrigramTagger       0.31\n",
      "BigramTagger        0.19\n",
      "UnigramTagger       0.10\n",
      "TnTTagger           0.25\n",
      "TrigramTagger       0.67\n",
      "BigramTagger        0.32\n",
      "UnigramTagger       0.17\n",
      "TnTTagger           0.28\n",
      "TrigramTagger       0.89\n",
      "BigramTagger        0.46\n",
      "UnigramTagger       0.23\n",
      "TnTTagger           0.35\n",
      "TrigramTagger       1.11\n",
      "BigramTagger        0.57\n",
      "UnigramTagger       0.24\n",
      "TnTTagger           0.42\n",
      "TrigramTagger       1.36\n",
      "BigramTagger        0.66\n",
      "UnigramTagger       0.27\n"
     ]
    }
   ],
   "source": [
    "train_times = []\n",
    "for t in taggers:\n",
    "    t0 = time.time()\n",
    "    t.train(train_sents)\n",
    "    train_times.append(time.time() - t0)\n",
    "    print (\"{:20}{:3.2f}\".format(type(t).__name__, train_times[-1]))"
   ]
  },
  {
   "cell_type": "code",
   "execution_count": 15,
   "metadata": {
    "collapsed": false
   },
   "outputs": [
    {
     "name": "stdout",
     "output_type": "stream",
     "text": [
      "TnTTagger           3.69\n",
      "TrigramTagger       0.21\n",
      "BigramTagger        0.17\n",
      "UnigramTagger       0.14\n",
      "TnTTagger           9.39\n",
      "TrigramTagger       0.22\n",
      "BigramTagger        0.28\n",
      "UnigramTagger       0.19\n",
      "TnTTagger           29.09\n",
      "TrigramTagger       0.30\n",
      "BigramTagger        0.21\n",
      "UnigramTagger       0.16\n",
      "TnTTagger           31.36\n",
      "TrigramTagger       0.33\n",
      "BigramTagger        0.18\n",
      "UnigramTagger       0.13\n",
      "TnTTagger           34.20\n",
      "TrigramTagger       0.43\n",
      "BigramTagger        0.25\n",
      "UnigramTagger       0.20\n"
     ]
    }
   ],
   "source": [
    "accuracies = []\n",
    "test_times = []\n",
    "for t in taggers:\n",
    "    t0 = time.time()\n",
    "    accuracies.append(t.test(test_sents[:500]))\n",
    "    test_times.append(time.time() - t0)\n",
    "    print (\"{:20}{:3.2f}\".format(type(t).__name__, test_times[-1]))"
   ]
  },
  {
   "cell_type": "code",
   "execution_count": 16,
   "metadata": {
    "collapsed": false
   },
   "outputs": [
    {
     "name": "stdout",
     "output_type": "stream",
     "text": [
      "131.6073260307312\n"
     ]
    }
   ],
   "source": [
    "g_times.append(time.time())\n",
    "print (g_times[-1] - g_times[-2])"
   ]
  },
  {
   "cell_type": "code",
   "execution_count": 17,
   "metadata": {
    "collapsed": false
   },
   "outputs": [],
   "source": [
    "%matplotlib inline\n",
    "\n",
    "import pandas as pd\n",
    "import matplotlib.pyplot as plt\n",
    "\n",
    "import seaborn as sns\n",
    "sns.set_style(\"darkgrid\")"
   ]
  },
  {
   "cell_type": "code",
   "execution_count": 18,
   "metadata": {
    "collapsed": false
   },
   "outputs": [],
   "source": [
    "tagger_types = [type(t).__name__ for t in taggers]\n",
    "tokens_sizes = [t.tokens_size for t in taggers]\n",
    "\n",
    "test_runs = [('tagger_type', tagger_types),\n",
    "             ('tokens_size', tokens_sizes),\n",
    "             ('accuracy', accuracies),\n",
    "             ('train_time', train_times),\n",
    "             ('test_time', test_times)]\n",
    "\n",
    "df = pd.DataFrame.from_items(test_runs)\n",
    "grouped = df.groupby(['tagger_type'])"
   ]
  },
  {
   "cell_type": "code",
   "execution_count": 19,
   "metadata": {
    "collapsed": true
   },
   "outputs": [],
   "source": [
    "def my_plot(grouped, field):\n",
    "    fig, ax = plt.subplots(figsize=(8,6))\n",
    "    for key, grp in grouped:\n",
    "        grp.plot(x='tokens_size', y=field, ax=ax, label=key)\n",
    "    plt.legend(loc='best')    \n",
    "    plt.show()"
   ]
  },
  {
   "cell_type": "code",
   "execution_count": 20,
   "metadata": {
    "collapsed": false
   },
   "outputs": [
    {
     "data": {
      "image/png": "[encoded data removed]",
      "text/plain": [
       "<matplotlib.figure.Figure at 0x116d25b90>"
      ]
     },
     "metadata": {},
     "output_type": "display_data"
    }
   ],
   "source": [
    "my_plot(grouped, 'accuracy')"
   ]
  },
  {
   "cell_type": "code",
   "execution_count": 21,
   "metadata": {
    "collapsed": false
   },
   "outputs": [
    {
     "data": {
      "image/png": "[encoded data removed]",
      "text/plain": [
       "<matplotlib.figure.Figure at 0x116646650>"
      ]
     },
     "metadata": {},
     "output_type": "display_data"
    }
   ],
   "source": [
    "my_plot(grouped, 'train_time')"
   ]
  },
  {
   "cell_type": "code",
   "execution_count": 22,
   "metadata": {
    "collapsed": false
   },
   "outputs": [
    {
     "data": {
      "image/png": "[encoded data removed]",
      "text/plain": [
       "<matplotlib.figure.Figure at 0x116954e90>"
      ]
     },
     "metadata": {},
     "output_type": "display_data"
    }
   ],
   "source": [
    "my_plot(grouped, 'test_time')"
   ]
  },
  {
   "cell_type": "code",
   "execution_count": 23,
   "metadata": {
    "collapsed": false
   },
   "outputs": [
    {
     "data": {
      "text/html": [
       "<div>\n",
       "<table border=\"1\" class=\"dataframe\">\n",
       "  <thead>\n",
       "    <tr style=\"text-align: right;\">\n",
       "      <th></th>\n",
       "      <th></th>\n",
       "      <th>accuracy</th>\n",
       "      <th>test_time</th>\n",
       "      <th>tokens_size</th>\n",
       "      <th>train_time</th>\n",
       "    </tr>\n",
       "    <tr>\n",
       "      <th>tagger_type</th>\n",
       "      <th></th>\n",
       "      <th></th>\n",
       "      <th></th>\n",
       "      <th></th>\n",
       "      <th></th>\n",
       "    </tr>\n",
       "  </thead>\n",
       "  <tbody>\n",
       "    <tr>\n",
       "      <th rowspan=\"8\" valign=\"top\">BigramTagger</th>\n",
       "      <th>count</th>\n",
       "      <td>5.000000</td>\n",
       "      <td>5.000000</td>\n",
       "      <td>5.000000</td>\n",
       "      <td>5.000000</td>\n",
       "    </tr>\n",
       "    <tr>\n",
       "      <th>mean</th>\n",
       "      <td>0.774394</td>\n",
       "      <td>0.218617</td>\n",
       "      <td>15359.000000</td>\n",
       "      <td>0.439434</td>\n",
       "    </tr>\n",
       "    <tr>\n",
       "      <th>std</th>\n",
       "      <td>0.054606</td>\n",
       "      <td>0.046705</td>\n",
       "      <td>8022.731829</td>\n",
       "      <td>0.190414</td>\n",
       "    </tr>\n",
       "    <tr>\n",
       "      <th>min</th>\n",
       "      <td>0.688322</td>\n",
       "      <td>0.173202</td>\n",
       "      <td>5059.000000</td>\n",
       "      <td>0.186001</td>\n",
       "    </tr>\n",
       "    <tr>\n",
       "      <th>25%</th>\n",
       "      <td>0.757009</td>\n",
       "      <td>0.175917</td>\n",
       "      <td>10403.000000</td>\n",
       "      <td>0.323677</td>\n",
       "    </tr>\n",
       "    <tr>\n",
       "      <th>50%</th>\n",
       "      <td>0.790214</td>\n",
       "      <td>0.214922</td>\n",
       "      <td>15487.000000</td>\n",
       "      <td>0.455310</td>\n",
       "    </tr>\n",
       "    <tr>\n",
       "      <th>75%</th>\n",
       "      <td>0.810273</td>\n",
       "      <td>0.247034</td>\n",
       "      <td>20437.000000</td>\n",
       "      <td>0.567440</td>\n",
       "    </tr>\n",
       "    <tr>\n",
       "      <th>max</th>\n",
       "      <td>0.826153</td>\n",
       "      <td>0.282009</td>\n",
       "      <td>25409.000000</td>\n",
       "      <td>0.664743</td>\n",
       "    </tr>\n",
       "    <tr>\n",
       "      <th rowspan=\"8\" valign=\"top\">TnTTagger</th>\n",
       "      <th>count</th>\n",
       "      <td>5.000000</td>\n",
       "      <td>5.000000</td>\n",
       "      <td>5.000000</td>\n",
       "      <td>5.000000</td>\n",
       "    </tr>\n",
       "    <tr>\n",
       "      <th>mean</th>\n",
       "      <td>0.780427</td>\n",
       "      <td>21.545285</td>\n",
       "      <td>15359.000000</td>\n",
       "      <td>0.289920</td>\n",
       "    </tr>\n",
       "    <tr>\n",
       "      <th>std</th>\n",
       "      <td>0.056158</td>\n",
       "      <td>13.962520</td>\n",
       "      <td>8022.731829</td>\n",
       "      <td>0.102475</td>\n",
       "    </tr>\n",
       "    <tr>\n",
       "      <th>min</th>\n",
       "      <td>0.692501</td>\n",
       "      <td>3.688554</td>\n",
       "      <td>5059.000000</td>\n",
       "      <td>0.150125</td>\n",
       "    </tr>\n",
       "    <tr>\n",
       "      <th>25%</th>\n",
       "      <td>0.761188</td>\n",
       "      <td>9.393808</td>\n",
       "      <td>10403.000000</td>\n",
       "      <td>0.249696</td>\n",
       "    </tr>\n",
       "    <tr>\n",
       "      <th>50%</th>\n",
       "      <td>0.796672</td>\n",
       "      <td>29.085648</td>\n",
       "      <td>15487.000000</td>\n",
       "      <td>0.280949</td>\n",
       "    </tr>\n",
       "    <tr>\n",
       "      <th>75%</th>\n",
       "      <td>0.818251</td>\n",
       "      <td>31.360141</td>\n",
       "      <td>20437.000000</td>\n",
       "      <td>0.346310</td>\n",
       "    </tr>\n",
       "    <tr>\n",
       "      <th>max</th>\n",
       "      <td>0.833523</td>\n",
       "      <td>34.198276</td>\n",
       "      <td>25409.000000</td>\n",
       "      <td>0.422522</td>\n",
       "    </tr>\n",
       "    <tr>\n",
       "      <th rowspan=\"8\" valign=\"top\">TrigramTagger</th>\n",
       "      <th>count</th>\n",
       "      <td>5.000000</td>\n",
       "      <td>5.000000</td>\n",
       "      <td>5.000000</td>\n",
       "      <td>5.000000</td>\n",
       "    </tr>\n",
       "    <tr>\n",
       "      <th>mean</th>\n",
       "      <td>0.774242</td>\n",
       "      <td>0.298263</td>\n",
       "      <td>15359.000000</td>\n",
       "      <td>0.866975</td>\n",
       "    </tr>\n",
       "    <tr>\n",
       "      <th>std</th>\n",
       "      <td>0.054668</td>\n",
       "      <td>0.092013</td>\n",
       "      <td>8022.731829</td>\n",
       "      <td>0.403009</td>\n",
       "    </tr>\n",
       "    <tr>\n",
       "      <th>min</th>\n",
       "      <td>0.688018</td>\n",
       "      <td>0.213324</td>\n",
       "      <td>5059.000000</td>\n",
       "      <td>0.310588</td>\n",
       "    </tr>\n",
       "    <tr>\n",
       "      <th>25%</th>\n",
       "      <td>0.756933</td>\n",
       "      <td>0.215021</td>\n",
       "      <td>10403.000000</td>\n",
       "      <td>0.667628</td>\n",
       "    </tr>\n",
       "    <tr>\n",
       "      <th>50%</th>\n",
       "      <td>0.790289</td>\n",
       "      <td>0.297376</td>\n",
       "      <td>15487.000000</td>\n",
       "      <td>0.888128</td>\n",
       "    </tr>\n",
       "    <tr>\n",
       "      <th>75%</th>\n",
       "      <td>0.809741</td>\n",
       "      <td>0.330700</td>\n",
       "      <td>20437.000000</td>\n",
       "      <td>1.111573</td>\n",
       "    </tr>\n",
       "    <tr>\n",
       "      <th>max</th>\n",
       "      <td>0.826229</td>\n",
       "      <td>0.434896</td>\n",
       "      <td>25409.000000</td>\n",
       "      <td>1.356958</td>\n",
       "    </tr>\n",
       "    <tr>\n",
       "      <th rowspan=\"8\" valign=\"top\">UnigramTagger</th>\n",
       "      <th>count</th>\n",
       "      <td>5.000000</td>\n",
       "      <td>5.000000</td>\n",
       "      <td>5.000000</td>\n",
       "      <td>5.000000</td>\n",
       "    </tr>\n",
       "    <tr>\n",
       "      <th>mean</th>\n",
       "      <td>0.767313</td>\n",
       "      <td>0.163211</td>\n",
       "      <td>15359.000000</td>\n",
       "      <td>0.200073</td>\n",
       "    </tr>\n",
       "    <tr>\n",
       "      <th>std</th>\n",
       "      <td>0.053209</td>\n",
       "      <td>0.031316</td>\n",
       "      <td>8022.731829</td>\n",
       "      <td>0.065308</td>\n",
       "    </tr>\n",
       "    <tr>\n",
       "      <th>min</th>\n",
       "      <td>0.683991</td>\n",
       "      <td>0.127705</td>\n",
       "      <td>5059.000000</td>\n",
       "      <td>0.103278</td>\n",
       "    </tr>\n",
       "    <tr>\n",
       "      <th>25%</th>\n",
       "      <td>0.749411</td>\n",
       "      <td>0.138226</td>\n",
       "      <td>10403.000000</td>\n",
       "      <td>0.166370</td>\n",
       "    </tr>\n",
       "    <tr>\n",
       "      <th>50%</th>\n",
       "      <td>0.782387</td>\n",
       "      <td>0.160203</td>\n",
       "      <td>15487.000000</td>\n",
       "      <td>0.226434</td>\n",
       "    </tr>\n",
       "    <tr>\n",
       "      <th>75%</th>\n",
       "      <td>0.802523</td>\n",
       "      <td>0.192442</td>\n",
       "      <td>20437.000000</td>\n",
       "      <td>0.237342</td>\n",
       "    </tr>\n",
       "    <tr>\n",
       "      <th>max</th>\n",
       "      <td>0.818251</td>\n",
       "      <td>0.197478</td>\n",
       "      <td>25409.000000</td>\n",
       "      <td>0.266942</td>\n",
       "    </tr>\n",
       "  </tbody>\n",
       "</table>\n",
       "</div>"
      ],
      "text/plain": [
       "                     accuracy  test_time   tokens_size  train_time\n",
       "tagger_type                                                       \n",
       "BigramTagger  count  5.000000   5.000000      5.000000    5.000000\n",
       "              mean   0.774394   0.218617  15359.000000    0.439434\n",
       "              std    0.054606   0.046705   8022.731829    0.190414\n",
       "              min    0.688322   0.173202   5059.000000    0.186001\n",
       "              25%    0.757009   0.175917  10403.000000    0.323677\n",
       "              50%    0.790214   0.214922  15487.000000    0.455310\n",
       "              75%    0.810273   0.247034  20437.000000    0.567440\n",
       "              max    0.826153   0.282009  25409.000000    0.664743\n",
       "TnTTagger     count  5.000000   5.000000      5.000000    5.000000\n",
       "              mean   0.780427  21.545285  15359.000000    0.289920\n",
       "              std    0.056158  13.962520   8022.731829    0.102475\n",
       "              min    0.692501   3.688554   5059.000000    0.150125\n",
       "              25%    0.761188   9.393808  10403.000000    0.249696\n",
       "              50%    0.796672  29.085648  15487.000000    0.280949\n",
       "              75%    0.818251  31.360141  20437.000000    0.346310\n",
       "              max    0.833523  34.198276  25409.000000    0.422522\n",
       "TrigramTagger count  5.000000   5.000000      5.000000    5.000000\n",
       "              mean   0.774242   0.298263  15359.000000    0.866975\n",
       "              std    0.054668   0.092013   8022.731829    0.403009\n",
       "              min    0.688018   0.213324   5059.000000    0.310588\n",
       "              25%    0.756933   0.215021  10403.000000    0.667628\n",
       "              50%    0.790289   0.297376  15487.000000    0.888128\n",
       "              75%    0.809741   0.330700  20437.000000    1.111573\n",
       "              max    0.826229   0.434896  25409.000000    1.356958\n",
       "UnigramTagger count  5.000000   5.000000      5.000000    5.000000\n",
       "              mean   0.767313   0.163211  15359.000000    0.200073\n",
       "              std    0.053209   0.031316   8022.731829    0.065308\n",
       "              min    0.683991   0.127705   5059.000000    0.103278\n",
       "              25%    0.749411   0.138226  10403.000000    0.166370\n",
       "              50%    0.782387   0.160203  15487.000000    0.226434\n",
       "              75%    0.802523   0.192442  20437.000000    0.237342\n",
       "              max    0.818251   0.197478  25409.000000    0.266942"
      ]
     },
     "execution_count": 23,
     "metadata": {},
     "output_type": "execute_result"
    }
   ],
   "source": [
    "grouped.describe()"
   ]
  },
  {
   "cell_type": "code",
   "execution_count": null,
   "metadata": {
    "collapsed": true
   },
   "outputs": [],
   "source": []
  }
 ],
 "metadata": {
  "kernelspec": {
   "display_name": "Python 3",
   "language": "python",
   "name": "python3"
  },
  "language_info": {
   "codemirror_mode": {
    "name": "ipython",
    "version": 3
   },
   "file_extension": ".py",
   "mimetype": "text/x-python",
   "name": "python",
   "nbconvert_exporter": "python",
   "pygments_lexer": "ipython3",
   "version": "3.3.4"
  }
 },
 "nbformat": 4,
 "nbformat_minor": 0
}
